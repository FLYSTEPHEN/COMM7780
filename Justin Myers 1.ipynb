{
 "cells": [
  {
   "cell_type": "code",
   "execution_count": 1,
   "metadata": {},
   "outputs": [],
   "source": [
    "import requests\n",
    "from bs4 import BeautifulSoup\n",
    "import csv"
   ]
  },
  {
   "cell_type": "code",
   "execution_count": 2,
   "metadata": {},
   "outputs": [],
   "source": [
    "def scrape_one_year_contribution(one_year_url):\n",
    "    contribution = []\n",
    "    count = []\n",
    "    date = []\n",
    "    r = requests.get(one_year_url).text\n",
    "    data = BeautifulSoup(r,\"html.parser\")\n",
    "    my_contribution = data.find_all('rect')\n",
    "    for i in my_contribution:\n",
    "        merge = [i['data-count'], i['data-date']]\n",
    "        contribution.append(merge)\n",
    "    return contribution"
   ]
  },
  {
   "cell_type": "code",
   "execution_count": 3,
   "metadata": {},
   "outputs": [],
   "source": [
    "def scrape_years(overview_url):\n",
    "    year_urls = []\n",
    "    r = requests.get(overview_url).text\n",
    "    data = BeautifulSoup(r,\"html.parser\")\n",
    "    my_urls = data.find_all('a',attrs={'class':\"js-year-link\"})\n",
    "    for my_url in my_urls:\n",
    "        url ='{0}{1}'.format('https://github.com/myersjustinc?tab=overview&',my_url['href'].split('amp;')[-1])\n",
    "        year_urls.append(url)\n",
    "    return list(reversed(year_urls))"
   ]
  },
  {
   "cell_type": "code",
   "execution_count": 4,
   "metadata": {},
   "outputs": [],
   "source": [
    "def scrape_all_pages(overview_url):\n",
    "    all_years = scrape_years(overview_url)\n",
    "    contribution = []\n",
    "    for i in all_years: \n",
    "        contribution += scrape_one_year_contribution(i)\n",
    "    return contribution"
   ]
  },
  {
   "cell_type": "code",
   "execution_count": 5,
   "metadata": {},
   "outputs": [],
   "source": [
    "with open('Justin_Myers_contributions.csv','w',newline='') as f:\n",
    "    all_contribution = scrape_all_pages('https://github.com/myersjustinc')\n",
    "    writer = csv.writer(f)\n",
    "    header = ['Contribution','Date']\n",
    "    writer.writerow(header)\n",
    "    writer.writerows(all_contribution)"
   ]
  }
 ],
 "metadata": {
  "kernelspec": {
   "display_name": "Python 3",
   "language": "python",
   "name": "python3"
  },
  "language_info": {
   "codemirror_mode": {
    "name": "ipython",
    "version": 3
   },
   "file_extension": ".py",
   "mimetype": "text/x-python",
   "name": "python",
   "nbconvert_exporter": "python",
   "pygments_lexer": "ipython3",
   "version": "3.7.0"
  }
 },
 "nbformat": 4,
 "nbformat_minor": 2
}
