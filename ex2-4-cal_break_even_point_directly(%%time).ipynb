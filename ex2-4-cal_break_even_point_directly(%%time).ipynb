{
 "cells": [
  {
   "cell_type": "markdown",
   "metadata": {},
   "source": [
    "* The basic function and constants:"
   ]
  },
  {
   "cell_type": "code",
   "execution_count": 29,
   "metadata": {},
   "outputs": [],
   "source": [
    "def net_income(visitor):\n",
    "    if visitor<=basic_visitor:\n",
    "        major_cost=fixed_cost\n",
    "    else:\n",
    "        major_cost=fixed_cost+(visitor-basic_visitor)*cloud_sever_fee\n",
    "    \n",
    "    revenue=visitor*ad_sponsorship+visitor*subscription_fee*convert_rate\n",
    "\n",
    "    net_income=revenue-major_cost\n",
    "    return net_income\n",
    "\n",
    "content_cost=7000000\n",
    "other_cost=300000\n",
    "infrastructure_cost=50000000\n",
    "cloud_sever_fee=0.001\n",
    "subscription_fee=15\n",
    "convert_rate=0.1\n",
    "ad_sponsorship=0.8\n",
    "basic_visitor=50000\n",
    "\n",
    "fixed_cost=content_cost+other_cost+infrastructure_cost"
   ]
  },
  {
   "cell_type": "markdown",
   "metadata": {},
   "source": [
    "* a basic method to get to the answer:"
   ]
  },
  {
   "cell_type": "code",
   "execution_count": 88,
   "metadata": {},
   "outputs": [
    {
     "name": "stdout",
     "output_type": "stream",
     "text": [
      "visitor=24923859 is the break even point\n",
      "CPU times: user 18.8 s, sys: 103 ms, total: 18.9 s\n",
      "Wall time: 19.5 s\n"
     ]
    }
   ],
   "source": [
    "%%time\n",
    "\n",
    "i=0\n",
    "while net_income(i)<0:\n",
    "    i=i+1\n",
    "print('visitor=%s is the break even point'%i)"
   ]
  },
  {
   "cell_type": "markdown",
   "metadata": {},
   "source": [
    "* An advanced method mentioned by @kaiwenxu94：\n",
    "    - Firstly plus 10000 by 10000, then minus back 1 by 1"
   ]
  },
  {
   "cell_type": "code",
   "execution_count": 27,
   "metadata": {},
   "outputs": [
    {
     "name": "stdout",
     "output_type": "stream",
     "text": [
      "visitor=24923859 is the break even point\n",
      "CPU times: user 8.02 ms, sys: 291 µs, total: 8.31 ms\n",
      "Wall time: 8.29 ms\n"
     ]
    }
   ],
   "source": [
    "%%time\n",
    "\n",
    "i=0\n",
    "while net_income(i)<0:\n",
    "    i=i+10000\n",
    "while net_income(i)>=0:\n",
    "    i=i-1\n",
    "print('visitor=%s is the break even point'%(i+1))"
   ]
  },
  {
   "cell_type": "markdown",
   "metadata": {},
   "source": [
    "* Inspired by his intelligence, I come up with a more universal way to figure out the break point. Generally, it is +100000 circularly and then -10000 in the same way until +/-1:"
   ]
  },
  {
   "cell_type": "code",
   "execution_count": 39,
   "metadata": {},
   "outputs": [
    {
     "name": "stdout",
     "output_type": "stream",
     "text": [
      "visitor=24923859 is the break even point\n",
      "CPU times: user 392 µs, sys: 103 µs, total: 495 µs\n",
      "Wall time: 442 µs\n"
     ]
    }
   ],
   "source": [
    "%%time\n",
    "\n",
    "def sway():\n",
    "    i=0\n",
    "    e=len(str(fixed_cost))-1                #estimated scale of addend used firstly\n",
    "    f=int(e%2!=0)                           #make sure the first addend’s sign is +, since we use a (-1)**n to control +/- later\n",
    "    while e>=0:                             #end loop until 10**e=1\n",
    "        while net_income(i)*(-1)**(e+f)<0:  #try to get a number bigger/smaller(depending on how many rounds) than the point\n",
    "            #print(i)                       #memo of how f works: when e is odd number, f become 1, so the 1st e is always even number\n",
    "            i=i+10**e*(-1)**(e+f)           #use a (-1)**n to control +/-; use f=int(e%2!=0) to make sure the first addend‘s sign is +\n",
    "        e=e-1                               #promote precision and plus/minus again \n",
    "    if net_income(i)<0:                     #if the loop ends with minus, we should add it back above 0\n",
    "        i=i+1\n",
    "        #print(i)\n",
    "    return i\n",
    "print('visitor=%s is the break even point'% sway())"
   ]
  },
  {
   "cell_type": "markdown",
   "metadata": {},
   "source": [
    "* Motivated by Pili's instruction, I found the arithmetic speed can be even faster using bisection method(二分法)！I am not sure whether it is the exact bisection method but it really works:"
   ]
  },
  {
   "cell_type": "code",
   "execution_count": 40,
   "metadata": {
    "scrolled": true
   },
   "outputs": [
    {
     "name": "stdout",
     "output_type": "stream",
     "text": [
      "visitor=24923859 is the break even point\n",
      "CPU times: user 206 µs, sys: 79 µs, total: 285 µs\n",
      "Wall time: 230 µs\n"
     ]
    }
   ],
   "source": [
    "%%time\n",
    "\n",
    "def bisection():\n",
    "    i=0\n",
    "    e=len(str(fixed_cost))-1        #estimated scale of addend used firstly\n",
    "    g=10**e\n",
    "    while net_income(i)<0:          #firstly find a section (i0，i1) containing the break even point\n",
    "        i=i+g\n",
    "        #print(i)\n",
    "    i0=i-g\n",
    "    i1=i\n",
    "    while i1-i0>2:                  #avoid the endless loop when i1-i0=2, since there is i1=middle+1 in bisection\n",
    "        middle=(i0+i1)//2\n",
    "        if net_income(middle)<0:\n",
    "            i0=middle               #no need for i0=middle-1 since fractional parts have been rounded down by '//'\n",
    "        elif net_income(middle)>=0:\n",
    "            i1=middle+1             #let i1=middle+1 so that if middle<x<middle+1 when net_income(x)=0, the x won't be skipped\n",
    "        #print(i0,i1)\n",
    "    if net_income(i1-1)>=0:         #the point could be in (i1-1,i1) or (i1-2,i1-1)\n",
    "        i1=i1-1\n",
    "        #print(i1)\n",
    "    return i1\n",
    "print('visitor=%s is the break even point'% bisection())"
   ]
  },
  {
   "cell_type": "markdown",
   "metadata": {},
   "source": [
    "* Of course we can figure out the answer directly, which shows the outputs of sway() and bisection() are correct:"
   ]
  },
  {
   "cell_type": "code",
   "execution_count": 24,
   "metadata": {},
   "outputs": [
    {
     "name": "stdout",
     "output_type": "stream",
     "text": [
      "24923859\n"
     ]
    }
   ],
   "source": [
    "answer=int((fixed_cost-basic_visitor*cloud_sever_fee)/((ad_sponsorship+subscription_fee*convert_rate)-cloud_sever_fee))+1\n",
    "print(answer)"
   ]
  },
  {
   "cell_type": "markdown",
   "metadata": {},
   "source": [
    "* Repeat sway() for 100000 times for a more stable time test:"
   ]
  },
  {
   "cell_type": "code",
   "execution_count": 22,
   "metadata": {},
   "outputs": [
    {
     "name": "stdout",
     "output_type": "stream",
     "text": [
      "CPU times: user 8.02 s, sys: 34.6 ms, total: 8.06 s\n",
      "Wall time: 8.2 s\n"
     ]
    }
   ],
   "source": [
    "%%time\n",
    "\n",
    "for i in range(1,100000):\n",
    "    sway()"
   ]
  },
  {
   "cell_type": "markdown",
   "metadata": {},
   "source": [
    "* Repeat bisection() for 100000 times. It shows bisection()‘s time consumption is about 1/3 of sway()’s on this stage:"
   ]
  },
  {
   "cell_type": "code",
   "execution_count": 23,
   "metadata": {},
   "outputs": [
    {
     "name": "stdout",
     "output_type": "stream",
     "text": [
      "CPU times: user 2.67 s, sys: 18.3 ms, total: 2.68 s\n",
      "Wall time: 2.74 s\n"
     ]
    }
   ],
   "source": [
    "%%time\n",
    "\n",
    "for i in range(1,100000):\n",
    "    bisection()"
   ]
  }
 ],
 "metadata": {
  "kernelspec": {
   "display_name": "Python 3",
   "language": "python",
   "name": "python3"
  },
  "language_info": {
   "codemirror_mode": {
    "name": "ipython",
    "version": 3
   },
   "file_extension": ".py",
   "mimetype": "text/x-python",
   "name": "python",
   "nbconvert_exporter": "python",
   "pygments_lexer": "ipython3",
   "version": "3.7.0"
  }
 },
 "nbformat": 4,
 "nbformat_minor": 2
}
