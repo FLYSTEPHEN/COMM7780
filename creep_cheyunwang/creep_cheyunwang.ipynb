{
 "cells": [
  {
   "cell_type": "code",
   "execution_count": 62,
   "metadata": {},
   "outputs": [
    {
     "name": "stdout",
     "output_type": "stream",
     "text": [
      "CPU times: user 4.17 s, sys: 119 ms, total: 4.29 s\n",
      "Wall time: 44.8 s\n"
     ]
    }
   ],
   "source": [
    "%%time\n",
    "import requests\n",
    "from bs4 import BeautifulSoup\n",
    "import csv\n",
    "\n",
    "def srape_one_index_page(index_url):\n",
    "    r = requests.get(index_url).text #获取网页内容\n",
    "    data = BeautifulSoup(r,\"html.parser\")\n",
    "    raw_list = data.find_all('h3')\n",
    "    url_list = []\n",
    "    for i in raw_list:\n",
    "        url_list.append('http://www.cheyun.com{}'.format(i.a['href']))\n",
    "    return url_list\n",
    "\n",
    "def srape_one_article(article_url):\n",
    "    r = requests.get(article_url).text #获取网页内容\n",
    "    data = BeautifulSoup(r,\"html.parser\")\n",
    "    information_list = [article_url]\n",
    "    try:\n",
    "        information_list.append(data.find('h1').text.strip())\n",
    "    except:\n",
    "        information_list.append('')        \n",
    "    try:\n",
    "        information_list.append(data.find('li',attrs={'class':'fn-left user'}).text.strip())\n",
    "    except:\n",
    "        information_list.append('')\n",
    "    try:\n",
    "        information_list.append(data.find('li',attrs={'class':'fn-left date'}).text.strip()[5:24])\n",
    "    except:\n",
    "        information_list.append('')\n",
    "    try:    \n",
    "        information_list.append(data.find('div',attrs={'class':'m-intr-article'}).text.strip())\n",
    "    except:\n",
    "        information_list.append('')    \n",
    "    try:\n",
    "        information_list.append(data.find('div',attrs={'class':'m-con-article m-con-special'}).text.strip())\n",
    "    except:\n",
    "        information_list.append('')\n",
    "    return information_list\n",
    "\n",
    "index_url_list = []\n",
    "for i in range(1,8):\n",
    "    index_url_list.append('http://www.cheyun.com/search/智能网联/{}/?type=1'.format(i))\n",
    "\n",
    "url_list_final = []\n",
    "for i in index_url_list:\n",
    "    url_list_final.extend(srape_one_index_page(i))\n",
    "\n",
    "all_information_list=[]\n",
    "for i in url_list_final:\n",
    "    all_information_list.append(srape_one_article(i))"
   ]
  },
  {
   "cell_type": "code",
   "execution_count": 69,
   "metadata": {},
   "outputs": [],
   "source": [
    "import csv\n",
    "with open('articles.csv','w',newline='',encoding='utf-8') as f:\n",
    "    writer = csv.writer(f)\n",
    "    writer.writerows(all_information_list)"
   ]
  }
 ],
 "metadata": {
  "kernelspec": {
   "display_name": "Python 3",
   "language": "python",
   "name": "python3"
  },
  "language_info": {
   "codemirror_mode": {
    "name": "ipython",
    "version": 3
   },
   "file_extension": ".py",
   "mimetype": "text/x-python",
   "name": "python",
   "nbconvert_exporter": "python",
   "pygments_lexer": "ipython3",
   "version": "3.7.0"
  }
 },
 "nbformat": 4,
 "nbformat_minor": 2
}
